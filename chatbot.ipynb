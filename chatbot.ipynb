{
 "cells": [
  {
   "cell_type": "code",
   "execution_count": 10,
   "id": "b597e096",
   "metadata": {},
   "outputs": [],
   "source": [
    "import pandas as pd\n",
    "import numpy as np\n",
    "import re\n",
    "import nltk\n",
    "from sklearn.feature_extraction.text import TfidfVectorizer\n",
    "from sklearn.metrics.pairwise import cosine_similarity"
   ]
  },
  {
   "cell_type": "code",
   "execution_count": 11,
   "id": "5c18cdad",
   "metadata": {},
   "outputs": [
    {
     "data": {
      "text/html": [
       "<div>\n",
       "<style scoped>\n",
       "    .dataframe tbody tr th:only-of-type {\n",
       "        vertical-align: middle;\n",
       "    }\n",
       "\n",
       "    .dataframe tbody tr th {\n",
       "        vertical-align: top;\n",
       "    }\n",
       "\n",
       "    .dataframe thead th {\n",
       "        text-align: right;\n",
       "    }\n",
       "</style>\n",
       "<table border=\"1\" class=\"dataframe\">\n",
       "  <thead>\n",
       "    <tr style=\"text-align: right;\">\n",
       "      <th></th>\n",
       "      <th>questions</th>\n",
       "      <th>answers</th>\n",
       "    </tr>\n",
       "  </thead>\n",
       "  <tbody>\n",
       "    <tr>\n",
       "      <th>0</th>\n",
       "      <td>Greetings or greeting or hello or hi</td>\n",
       "      <td>Hi! how is your day going? How may I help you?</td>\n",
       "    </tr>\n",
       "    <tr>\n",
       "      <th>1</th>\n",
       "      <td>Hello</td>\n",
       "      <td>Hey! how are you doing? How may I help you?</td>\n",
       "    </tr>\n",
       "    <tr>\n",
       "      <th>2</th>\n",
       "      <td>Hi</td>\n",
       "      <td>Hello! how may I help you?</td>\n",
       "    </tr>\n",
       "    <tr>\n",
       "      <th>3</th>\n",
       "      <td>What is the network technology / network stren...</td>\n",
       "      <td>The mobile phone Acer Iconia Talk S has GSM / ...</td>\n",
       "    </tr>\n",
       "    <tr>\n",
       "      <th>4</th>\n",
       "      <td>What is the 2G bands or band or Band in Acer m...</td>\n",
       "      <td>The mobile phone Acer Iconia Talk S has 2G ban...</td>\n",
       "    </tr>\n",
       "  </tbody>\n",
       "</table>\n",
       "</div>"
      ],
      "text/plain": [
       "                                           questions  \\\n",
       "0               Greetings or greeting or hello or hi   \n",
       "1                                              Hello   \n",
       "2                                                 Hi   \n",
       "3  What is the network technology / network stren...   \n",
       "4  What is the 2G bands or band or Band in Acer m...   \n",
       "\n",
       "                                             answers  \n",
       "0     Hi! how is your day going? How may I help you?  \n",
       "1        Hey! how are you doing? How may I help you?  \n",
       "2                         Hello! how may I help you?  \n",
       "3  The mobile phone Acer Iconia Talk S has GSM / ...  \n",
       "4  The mobile phone Acer Iconia Talk S has 2G ban...  "
      ]
     },
     "execution_count": 11,
     "metadata": {},
     "output_type": "execute_result"
    }
   ],
   "source": [
    "df = pd.read_csv('smartphone_dataset.csv')\n",
    "df.head()"
   ]
  },
  {
   "cell_type": "code",
   "execution_count": 12,
   "id": "e4eea1c3",
   "metadata": {},
   "outputs": [
    {
     "name": "stderr",
     "output_type": "stream",
     "text": [
      "[nltk_data] Downloading package stopwords to\n",
      "[nltk_data]     C:\\Users\\99spa\\AppData\\Roaming\\nltk_data...\n",
      "[nltk_data]   Package stopwords is already up-to-date!\n"
     ]
    }
   ],
   "source": [
    "nltk.download('stopwords')\n",
    "from nltk.corpus import stopwords\n",
    "stop_words = stopwords.words('english')\n",
    "def clean_text(text):\n",
    "    text = re.sub(r'[^\\w\\s]', '', text)\n",
    "    text = text.lower()\n",
    "    text = [word for word in text.split() if word not in stop_words]\n",
    "    text = ' '.join(text)\n",
    "    return text\n",
    "df['questions'] = df['questions'].apply(clean_text)"
   ]
  },
  {
   "cell_type": "code",
   "execution_count": 13,
   "id": "83f5bf32",
   "metadata": {},
   "outputs": [],
   "source": [
    "tfidf = TfidfVectorizer()\n",
    "tfidf_matrix = tfidf.fit_transform(df['questions'])"
   ]
  },
  {
   "cell_type": "code",
   "execution_count": 14,
   "id": "c6aab981",
   "metadata": {},
   "outputs": [],
   "source": [
    "def get_answer(question):\n",
    "    question = clean_text(question)\n",
    "    question_tfidf = tfidf.transform([question])\n",
    "    similarities = cosine_similarity(question_tfidf, tfidf_matrix)\n",
    "    index = np.argmax(similarities)\n",
    "    \n",
    "    if similarities.max() > 0:\n",
    "        return df.iloc[index]['answers']\n",
    "    else:\n",
    "        return \"Sorry, we don't have any information regarding your query!\""
   ]
  },
  {
   "cell_type": "code",
   "execution_count": 15,
   "id": "e9e5cdeb",
   "metadata": {},
   "outputs": [
    {
     "name": "stdout",
     "output_type": "stream",
     "text": [
      "Please type 'quit' for exiting the bot!\n",
      "\n",
      "You: Hi\n",
      "Chatbot: Hello! how may I help you?\n",
      "\n",
      "You: Can you please tell me what is the price of Galaxy S8?\n",
      "Chatbot: The approximate price of the phone Samsung Galaxy S8 is 700 euros!\n",
      "\n",
      "You: What is the screen resolution of the smartphone, ZTE?\n",
      "Chatbot: The phone LG has the resolution of 4.93 inches (~65.4% screen-to-body ratio)\n",
      "\n",
      "You: What is the cost of Samsung?\n",
      "Chatbot: We don't have any information about the Samsung Z cost. Please visit www.Samsung.com for exact details.\n",
      "\n",
      "You: What is the network speed of Samsung Galaxy J7 max?\n",
      "Chatbot: The network speed of Samsung Galaxy J7 Max is HSPA 42.2/5.76 Mbps  LTE Cat4 150/50 Mbps\n",
      "\n",
      "You: Does a Acer Liquid phone has bluetooth?\n",
      "Chatbot: The phone Acer has a 2.0| A2DP bluetooth.\n",
      "\n",
      "You: Greeting\n",
      "Chatbot: Hi! how is your day going? How may I help you?\n",
      "\n",
      "You: quit\n",
      "Quiting the chatbot! Bye\n"
     ]
    }
   ],
   "source": [
    "try:\n",
    "    print(\"Please type 'quit' for exiting the bot!\")\n",
    "    print(\"\")\n",
    "    while True:\n",
    "            question = input(\"You: \")\n",
    "            answer = get_answer(question)\n",
    "            if question.split()[-1].strip().lower() == \"quit\":\n",
    "                print(\"Quiting the chatbot! Bye\")\n",
    "                break\n",
    "            print(f\"Chatbot: {answer}\")\n",
    "            print(\"\")\n",
    "except KeyboardInterrupt:\n",
    "    print(\"Thanks for using the chatbot!\")"
   ]
  },
  {
   "cell_type": "code",
   "execution_count": null,
   "id": "a7a83b8b",
   "metadata": {},
   "outputs": [],
   "source": []
  }
 ],
 "metadata": {
  "kernelspec": {
   "display_name": "Python 3 (ipykernel)",
   "language": "python",
   "name": "python3"
  },
  "language_info": {
   "codemirror_mode": {
    "name": "ipython",
    "version": 3
   },
   "file_extension": ".py",
   "mimetype": "text/x-python",
   "name": "python",
   "nbconvert_exporter": "python",
   "pygments_lexer": "ipython3",
   "version": "3.10.7"
  }
 },
 "nbformat": 4,
 "nbformat_minor": 5
}
